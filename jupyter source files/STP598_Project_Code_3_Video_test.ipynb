{
  "nbformat": 4,
  "nbformat_minor": 0,
  "metadata": {
    "colab": {
      "provenance": []
    },
    "kernelspec": {
      "name": "python3",
      "display_name": "Python 3"
    },
    "language_info": {
      "name": "python"
    }
  },
  "cells": [
    {
      "cell_type": "code",
      "source": [
        "\n",
        "from google.colab import drive\n",
        "drive.mount('/content/drive')"
      ],
      "metadata": {
        "colab": {
          "base_uri": "https://localhost:8080/"
        },
        "id": "Ia0TxLfskoJl",
        "outputId": "11f39cf5-e18b-49cc-f492-2d5e8d20a4b9"
      },
      "execution_count": 1,
      "outputs": [
        {
          "output_type": "stream",
          "name": "stdout",
          "text": [
            "Mounted at /content/drive\n"
          ]
        }
      ]
    },
    {
      "cell_type": "code",
      "execution_count": 2,
      "metadata": {
        "id": "oqP63yiEeZy6"
      },
      "outputs": [],
      "source": [
        "import keras\n",
        "import cv2\n",
        "import numpy as np\n",
        "import keras\n",
        "from tensorflow.keras.utils import img_to_array\n",
        "import imutils\n",
        "import os\n",
        "from google.colab.patches import cv2_imshow"
      ]
    },
    {
      "cell_type": "code",
      "source": [
        "alphabet=['A','B','C','D','E','F','G','H','I','K','L','M','N','O','P','Q','R','S','T','U','V','W','X','Y']\n",
        "model = keras.models.load_model(\"/content/drive/MyDrive/STP598 Project dataset/archive/model.h5\")\n",
        "\n",
        "def classify(image):\n",
        "    image = cv2.resize(image, (28, 28))\n",
        "    image = image.astype(\"float\") / 255.0\n",
        "    image = img_to_array(image)\n",
        "    image = np.expand_dims(image, axis=0)\n",
        "    proba=model.predict(image)\n",
        "    idx = np.argmax(proba)\n",
        "    return alphabet[idx]"
      ],
      "metadata": {
        "id": "dWwur32PkLkI"
      },
      "execution_count": 3,
      "outputs": []
    },
    {
      "cell_type": "code",
      "source": [
        "cap = cv2.VideoCapture(0)\n",
        "while True:\n",
        "    ret, img = cap.read()\n",
        "    if not ret:\n",
        "        print(\"Error: failed to capture image\")\n",
        "        break\n",
        "\n",
        "    # image = cv2.imread('amer_sign2.png')\n",
        "    img = cv2.flip(img, 1)\n",
        "    top, right, bottom, left = 75, 350, 300, 590\n",
        "    roi = img[top:bottom, right:left]\n",
        "    roi=cv2.flip(roi,1)\n",
        "    gray = cv2.cvtColor(roi, cv2.COLOR_BGR2GRAY)\n",
        "    gray = cv2.GaussianBlur(gray, (7, 7), 0)\n",
        "# cv2.imshow('roi', roi)\n",
        "    alpha=classify(gray)\n",
        "    cv2.rectangle(img, (left, top), (right, bottom), (0,255,0), 2)\n",
        "    font=cv2.FONT_HERSHEY_SIMPLEX\n",
        "    cv2.putText(img,alpha,(0,130),font,5,(0,0,255),2)\n",
        "    cv2.imshow('img',img)\n",
        "    key = cv2.waitKey(1) & 0xFF\n",
        "    if key==ord('q'):\n",
        "        break\n",
        "cap.release()\n",
        "cv2.destroyAllWindows()"
      ],
      "metadata": {
        "colab": {
          "base_uri": "https://localhost:8080/"
        },
        "id": "YIO-GY-4n-_a",
        "outputId": "9d327328-383a-43ed-ffc7-9739a3365571"
      },
      "execution_count": 4,
      "outputs": [
        {
          "output_type": "stream",
          "name": "stdout",
          "text": [
            "Error: failed to capture image\n"
          ]
        }
      ]
    },
    {
      "cell_type": "code",
      "source": [],
      "metadata": {
        "id": "HFNInXunn4O8"
      },
      "execution_count": null,
      "outputs": []
    }
  ]
}